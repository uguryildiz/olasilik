{
  "nbformat": 4,
  "nbformat_minor": 0,
  "metadata": {
    "colab": {
      "name": "karsilasma.ipynb",
      "provenance": [],
      "collapsed_sections": [],
      "authorship_tag": "ABX9TyMaZt+u4JRl0pyoQ+5ZHMCW",
      "include_colab_link": true
    },
    "kernelspec": {
      "name": "python3",
      "display_name": "Python 3"
    }
  },
  "cells": [
    {
      "cell_type": "markdown",
      "metadata": {
        "id": "view-in-github",
        "colab_type": "text"
      },
      "source": [
        "<a href=\"https://colab.research.google.com/github/uguryildiz/olasilik/blob/master/karsilasma.ipynb\" target=\"_parent\"><img src=\"https://colab.research.google.com/assets/colab-badge.svg\" alt=\"Open In Colab\"/></a>"
      ]
    },
    {
      "cell_type": "markdown",
      "metadata": {
        "id": "-9zJAJ16zdxv",
        "colab_type": "text"
      },
      "source": [
        "**Problem:**\n",
        "Kocaeli'de trafiğe kayıtlı toplam araç 100 adet, bu araçlardan yolculuk paylaşım uygulaması (YPU) kullananların 5 adet olduğu bilinmektedir. Umuttepe'ye günde 30 araç çıktmakta ve hepsi şehre geri dönmektedir. Buna göre umuttepe'ye çıkmış YPU kullanan araçlardan biri ile şehre dönme olasılığı nedir?\n",
        "\n",
        "**Çözüm:**\n",
        "Problemde terimleri tanımlarsak ;\n",
        "\n",
        "p(Toplam Araç Sayısı) = 100\n",
        "\n",
        "s(Umuttepe Çıkan Araç Sayısı) = 30\n",
        "\n",
        "f(YPU Kullanan Araç Sayısı) = 5\n",
        "\n",
        "P(E) = YPU ile Şehre Dönme Olasılığı\n",
        "\n",
        "P(E)' = YPU ile Şehre Dönememe Olasılığı\n",
        "\n",
        "Toplam Olasılık = P(E) + P(E)' = 1\n",
        "\n",
        "Burada YPU kullanan 5 araçtan en az 1 veya daha fazlası ile şehre dönebilme olasılığı bulunmaktadır ve bunun hesaplanması uzun olacağı için bu olasıkların tümünü hesaplamak yerine YPU kullanan araç ile dönememe olasılığını hesaplayarak, bunu toplam olasılıktan çıkartıp YPU kullanan araç ile dönme olasığı bulunabilir.\n",
        "\n",
        "***YPU Kullanan Araç ile Şehre Dönememe Olasılığı***\n",
        "\n",
        "S(Örnek Uzay) Boyutu: Tüm araçlar içerisinden umuttepeye çıkanların seçilmesi C(p,s) = C(100,30) \n",
        "\n",
        "E(Olay Uzayı) Boyutu: YPU kullanmayanlardan Umuttepe'ye çıkanların seçilmesi C(p-f,s) = C(100-5,30)\n",
        "\n",
        "P(E)' = C(p-f,s) / C(p,s) = C(100-5,30) / C(100,30)\n",
        "\n",
        "***YPU Kullanan Araç ile Şehre Dönme Olasılığı***\n",
        "\n",
        "P(E) = 1 - P(E)'"
      ]
    },
    {
      "cell_type": "code",
      "metadata": {
        "id": "CRjEZh9czUzI",
        "colab_type": "code",
        "colab": {
          "base_uri": "https://localhost:8080/",
          "height": 86
        },
        "outputId": "656be03a-684b-4adb-febc-325b19e9311f"
      },
      "source": [
        "def factorial(n):\n",
        "    if n==1:       \n",
        "        return n\n",
        "    else: \n",
        "        return n * factorial(n-1)\n",
        "    \n",
        "def combination(n,r):\n",
        "    return (factorial(n))/(factorial(n-r)*factorial(r))\n",
        "\n",
        "s = 30  # Umuttepe'ye Çıkan Araç Sayısı\n",
        "p = 100 # Toplam Araç Sayısı\n",
        "f = 5   # YPU Kullanan Araç Sayısı\n",
        "\n",
        "SS = combination(p,s) # S(Örnek Uzayı)\n",
        "print(\"S(Örnek Uzay) Boyutu: C(p,s) = C(100,30) = \",SS)\n",
        "\n",
        "ES = combination(p-f,s) # E(Olay Uzayı)\n",
        "print(\"E(Olay Uzayı) Boyutu: C(p-f,s) = C(100-20,30) = \",ES)\n",
        "\n",
        "PET = (ES/SS) # P(E)' = YPU Kullanan Araç ile Şehre Dönememe Olasılığı\n",
        "print(\"YPU Kullanan Araç ile Şehre Dönememe Olasılığı: P(E)' = C(p-f,s) / C(p,s) = C(100-20,30) / C(100,30) = \",PET)\n",
        "\n",
        "PE = 1 - (PET) # P(E) = YPU Kullanan Araç ile Şehre Dönme Olasılığı\n",
        "print(\"YPU Kullanan Araç ile Şehre Dönme Olasılığı: P(E) = 1- P(E)' = \",PE)"
      ],
      "execution_count": 17,
      "outputs": [
        {
          "output_type": "stream",
          "text": [
            "S(Örnek Uzay) Boyutu: C(p,s) = C(100,30) =  2.9372339821610947e+25\n",
            "E(Olay Uzayı) Boyutu: C(p-f,s) = C(100-20,30) =  4.721816312633419e+24\n",
            "YPU Kullanan Araç ile Şehre Dönememe Olasılığı: P(E)' = C(p-f,s) / C(p,s) = C(100-20,30) / C(100,30) =  0.16075724104074618\n",
            "YPU Kullanan Araç ile Şehre Dönme Olasılığı: P(E) = 1- P(E)' =  0.8392427589592538\n"
          ],
          "name": "stdout"
        }
      ]
    }
  ]
}