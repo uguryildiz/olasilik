{
  "nbformat": 4,
  "nbformat_minor": 0,
  "metadata": {
    "colab": {
      "name": "permutasyon.ipynb",
      "provenance": [],
      "collapsed_sections": [],
      "toc_visible": true,
      "authorship_tag": "ABX9TyOqFETGX9perV+oHz6TS+vn",
      "include_colab_link": true
    },
    "kernelspec": {
      "name": "python3",
      "display_name": "Python 3"
    }
  },
  "cells": [
    {
      "cell_type": "markdown",
      "metadata": {
        "id": "view-in-github",
        "colab_type": "text"
      },
      "source": [
        "<a href=\"https://colab.research.google.com/github/uguryildiz/olasilik/blob/master/permutasyon.ipynb\" target=\"_parent\"><img src=\"https://colab.research.google.com/assets/colab-badge.svg\" alt=\"Open In Colab\"/></a>"
      ]
    },
    {
      "cell_type": "markdown",
      "metadata": {
        "id": "rrOhh9RnAFwb",
        "colab_type": "text"
      },
      "source": [
        "# Tanım\n",
        "\n",
        "Bir kümenin tüm elemanlarının bir sıraya göre düzenlenmesi veya küme zaten sıralanmışsa, küme elemanlarının yeniden sıralanması işlemi matematikte permütasyon olarak adlandırılır. Permütasyon aşağıdaki formül ile hesaplanır. \n",
        "\n",
        "* P ( n , r ) = n ! / ( n - r ) !\n",
        "\n",
        "n : kümenin toplam eleman sayısı,\n",
        "\n",
        "r : sıralanacak eleman sayısı\n",
        "\n",
        "Aşağıda üç elemanlı (A,B,C) bir kümenin üçlü permütasyonu görülmektedir.\n",
        "\n",
        "* ABC\n",
        "* ACB\n",
        "* BAC\n",
        "* BCA\n",
        "* CAB\n",
        "* CBA\n",
        "\n",
        "Permütasyon hesabında pratik hesaplama yöntemleri bulunmaktadır. Örneğin beş elemanlı bir kümenin üçlü permütasyon hesabı aşağıda görülmektedir. \n",
        "\n",
        "* P(5,3) = 5.4.3 =  60\n",
        "\n",
        "Burada toplam eleman sayısından başlayarak sıralanacak eleman sayısı kadar sayı birer azaltılarak birbirleriyle çarpılır. Diğer pratik hesaplama yöntemleri ise aşağıda görülmektedir.\n",
        "\n",
        "* P(n,n) = n!\n",
        "* P(n,1) = n\n",
        "* P(n,0) = 1\n"
      ]
    },
    {
      "cell_type": "markdown",
      "metadata": {
        "id": "o7L337WtUK6W",
        "colab_type": "text"
      },
      "source": [
        "# Örnek Problem\n",
        "Bir kitaplıktaki 3 fen bilgisi, 4 matematik, 5 türkçe kitabı matematik kitapları en başta ve aynı derse ait kitaplar yanyana olmak şartıyla kaç farklı şekilde sıralanırlar. "
      ]
    },
    {
      "cell_type": "markdown",
      "metadata": {
        "id": "8WZUvzeYUNyj",
        "colab_type": "text"
      },
      "source": [
        "# Çözüm\n",
        "\n",
        "Bütün matematik kitapları en başta olacaktır, matematik kitaplarının 4 lü permütasyonu P(4,4) = 4.3.2.1 ile hesaplanır. Bunula beraber türkçe ardından fen bilgisi kitapları yada fen bilgisi ardından türkçe kitapları sıralanmalıdır. Türkçe ve fen bilgisi yer değişiminden 2 grubun 2'li permütasyonu P(2,2) = 2.1 ile hesaplanır. permütasyon, türkçe kitaplarının 5'li permüsatyonu P(5,5) = 5.4.3.2.1 ile hesaplanır. Fen bilgisi kitaplarının 3'lü permütasyonu P(3,3) = 3.2.1 ile hesaplanır. \n",
        "Toplam permütasyon Pt = P(4,4) * P(2,2) * P(5,5) * P(3,3) olarak hesaplanır."
      ]
    },
    {
      "cell_type": "markdown",
      "metadata": {
        "id": "6Um7Zl7SUP5Z",
        "colab_type": "text"
      },
      "source": [
        "# Python Kodu\n",
        "Permütasyon hesaplayan fonksiyon ve problemin cevapı aşağıda görülmektedir."
      ]
    },
    {
      "cell_type": "code",
      "metadata": {
        "id": "FL0i3luTEIZN",
        "colab_type": "code",
        "colab": {
          "base_uri": "https://localhost:8080/",
          "height": 34
        },
        "outputId": "a1cf3ce5-4c3b-40d8-b6ce-35b05f26d489"
      },
      "source": [
        "def P(n,r):\n",
        "    start = (n - r) + 1;\n",
        "    stop  = n + 1;\n",
        "    t = 1;\n",
        "    for i in range(start,stop):\n",
        "        t = t * i;\n",
        "    return t\n",
        "\n",
        "print(P(4,4) * P(2,2) * P(5,5) * P(3,3));"
      ],
      "execution_count": 10,
      "outputs": [
        {
          "output_type": "stream",
          "text": [
            "34560\n"
          ],
          "name": "stdout"
        }
      ]
    }
  ]
}