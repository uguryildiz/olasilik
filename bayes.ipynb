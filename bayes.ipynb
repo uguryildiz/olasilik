{
  "nbformat": 4,
  "nbformat_minor": 0,
  "metadata": {
    "colab": {
      "name": "bayes.ipynb",
      "provenance": [],
      "collapsed_sections": [],
      "authorship_tag": "ABX9TyPns3djydJOyULD1pwYG8J3",
      "include_colab_link": true
    },
    "kernelspec": {
      "name": "python3",
      "display_name": "Python 3"
    }
  },
  "cells": [
    {
      "cell_type": "markdown",
      "metadata": {
        "id": "view-in-github",
        "colab_type": "text"
      },
      "source": [
        "<a href=\"https://colab.research.google.com/github/uguryildiz/olasilik/blob/master/bayes.ipynb\" target=\"_parent\"><img src=\"https://colab.research.google.com/assets/colab-badge.svg\" alt=\"Open In Colab\"/></a>"
      ]
    },
    {
      "cell_type": "markdown",
      "metadata": {
        "id": "oPKfuOCBGrbB",
        "colab_type": "text"
      },
      "source": [
        "**Problem:** Bir öğretim elemanı şehir merkezinden umuttepedeki dersine zamanında gitme olasılığının %95 olduğu bilinmketedir. Umuttepe yolunda bakım çalışması olması nedeniyle yollar kapanmaktadır. Yolun kapanması ve tali yoldan gidilmesi durumunda öğretim elemanının derse zamanında gitme olasılığı %35 olduğu bilinmektedir. Yola çıkıldığında ana yolun kapalı olma olasılığının %85 olduğu öğrenilmiştir. Bu durumda öğretim elemanı derse giderken ana yolun kapalı olma olasığı nedir?\n",
        "\n",
        "**Çözüm:** Burada  **P(A|B) x P(B) = P(B|A) x P(A)** ile tanımlanan bayes teoremi kullanılarak \"Derse Giderken Ana Yolun Kapalı Olma Olasılığı\" bulunabilir.\n",
        "\n",
        "P(A) = %95 (Derse Zamanında Gitme Olasılığı)\n",
        "\n",
        "P(B) = %85 (Ana Yolun Kapalı Olma Olasılığı)\n",
        "\n",
        "P(A|B) = %35 (Ana Yol Kapalıyken Derse Yetişme Olasılığı)\n",
        "\n",
        "P(B|A) = ? (Derse Giderken Ana Yolun Kapalı Olma Olasılığı)\n",
        "\n",
        "P(A|B) x P(B) = **P(B|A)** x P(A) => **P(B|A)** = (P(A|B) x P(B)) / P(A)\n",
        "\n",
        "**P(B|A)** = (0,35 x 0,85) / 0,95\n",
        "\n",
        "**P(B|A)** = 0,31316\n"
      ]
    },
    {
      "cell_type": "code",
      "metadata": {
        "id": "n50s-4r6o1_K",
        "colab_type": "code",
        "colab": {
          "base_uri": "https://localhost:8080/",
          "height": 34
        },
        "outputId": "78cae8ee-bfb1-4ed7-84b6-9db1188c48fe"
      },
      "source": [
        "def BayesPBA(PA,PB,PAB):\n",
        "\tPBA = (PAB * PB) / PA\n",
        "\treturn PBA\n",
        " \n",
        "# P(A) = %95 (Derse Zamanında Gitme Olasılığı)\n",
        "PA = 0.95\n",
        "# P(B) = %85 (Ana Yolun Kapalı Olma Olasılığı)\n",
        "PB = 0.85\n",
        "# P(A|B) = %35 (Ana Yol Kapalıyken Derse Yetişme Olasılığı)\n",
        "PAB = 0.35\n",
        "\n",
        "PBA = BayesPBA(PA,PB,PAB)\n",
        "# P(B|A) = ? (Derse Giderken Ana Yolun Kapalı Olma Olasılığı)\n",
        "print('P(B|A) = %.3f%%' % (PBA * 100))"
      ],
      "execution_count": 2,
      "outputs": [
        {
          "output_type": "stream",
          "text": [
            "P(B|A) = 31.316%\n"
          ],
          "name": "stdout"
        }
      ]
    }
  ]
}