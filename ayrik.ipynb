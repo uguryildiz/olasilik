{
  "nbformat": 4,
  "nbformat_minor": 0,
  "metadata": {
    "colab": {
      "name": "ayrik.ipynb",
      "provenance": [],
      "authorship_tag": "ABX9TyMbR66We33yv+GhnTOCSQk7",
      "include_colab_link": true
    },
    "kernelspec": {
      "name": "python3",
      "display_name": "Python 3"
    }
  },
  "cells": [
    {
      "cell_type": "markdown",
      "metadata": {
        "id": "view-in-github",
        "colab_type": "text"
      },
      "source": [
        "<a href=\"https://colab.research.google.com/github/uguryildiz/olasilik/blob/master/ayrik.ipynb\" target=\"_parent\"><img src=\"https://colab.research.google.com/assets/colab-badge.svg\" alt=\"Open In Colab\"/></a>"
      ]
    },
    {
      "cell_type": "markdown",
      "metadata": {
        "id": "6d1PpFjv-S9A",
        "colab_type": "text"
      },
      "source": [
        "**Binominal Dağılım**:\n",
        "Bernoulli deneyinin birbirini izleyen n bağımsız denemelerindeki başarı sayısını temsil eden rasgele değişkendir ve X~Bin(n,p) şeklinde ifade edilir. Burada; \n",
        "\n",
        "n:deneme sayısı\n",
        "\n",
        "p: başarı olasılığı\n",
        "\n",
        "Binominal dağılımın olasılık fonksiyonu ise aşağıdaki formülle hesaplanmaktadır.\n",
        "\n",
        "P(X=k) = C(n,k) x (p^k) x ((1-p)^(n-k)), k=0,1,…,n\n",
        "\n",
        "Beklenen Değer: E[X] = n.p ve Varyans: Var(X)=np(1-p) ile hesaplanır. \n",
        "\n",
        "\n",
        "\n",
        "**Problem:** Umutepe yerleşkesinden şehir merkezi yönüne doğru yol üzerinde çevrilen bir taksinin korsan olma olasılığının 0.15 olduğu bilinmektedir. Çevrilen 10 taksiden 1 tanesinin korsan olma olasılığına ait binominal dağılımı gösteriniz?\n",
        "\n",
        "**Çözüm:** X~Bin(n=10,p=0.15) rasgele değişkeni için binominal dağılım;\n",
        "\n",
        "P(1) = C(10,1) x (0.15^1) x ((1-0.15)^(10-1))        \n",
        "P(1) = 10 x 0.15 x 0.23161694628320303\n",
        "P(1) = 0.3474254194248046\n",
        "\n",
        "E[X] = 10 x 0.15\n",
        "E[X] = 1,5\n",
        "\n",
        "Var(E) = 10 x 0.15 x (1 - 0.15)\n",
        "Var(E) = 1.275\n",
        "\n"
      ]
    },
    {
      "cell_type": "code",
      "metadata": {
        "id": "foqtTQ1vOQ6c",
        "colab_type": "code",
        "colab": {
          "base_uri": "https://localhost:8080/",
          "height": 69
        },
        "outputId": "856a2f33-0281-423e-fcc2-8985734c47f1"
      },
      "source": [
        "def factorial(n):\n",
        "    if n==1:       \n",
        "        return n\n",
        "    else: \n",
        "        return n * factorial(n-1)\n",
        "    \n",
        "def combination(n,r):\n",
        "    return (factorial(n))/(factorial(n-r)*factorial(r))\n",
        "\n",
        "def binominal(n,p,k):\n",
        "    return combination(n,k)*(p**k)*(1-p)**(n-k)\n",
        "\n",
        "n = 10\n",
        "p = 0.15\n",
        "k = 1\n",
        "\n",
        "b = binominal(n,p,k)\n",
        "e = n*p\n",
        "v = n*p*(1-p)\n",
        "\n",
        "print(\"10 taksiden 1 tanesinin korsan olma olasılığı = \",b)\n",
        "print(\"Beklenen Değer = \",e)\n",
        "print(\"Varyans = \",v)"
      ],
      "execution_count": 5,
      "outputs": [
        {
          "output_type": "stream",
          "text": [
            "10 taksiden 1 tanesinin korsan olma olasılığı =  0.3474254194248046\n",
            "Beklenen Değer =  1.5\n",
            "Varyans =  1.275\n"
          ],
          "name": "stdout"
        }
      ]
    },
    {
      "cell_type": "markdown",
      "metadata": {
        "id": "B7-vEVh_Qmmk",
        "colab_type": "text"
      },
      "source": [
        "**Poisson Dağılımı:** \n",
        "Binominal dağılımı; örnek uzayın (n) yeterince büyük, olasılığın (p)yeterince küçük olduğu durumlarda λ=n*p kabulü yapılmasıdır. Ortalama bir  λ yaklaşımı n ve p değerlerinin karmaşıklığından kurtarmaktadır. X~Poi(λ) şeklinde ifade edilir.\n",
        "\n",
        "Poisson dağılımın olasılık fonksiyonu ise aşağıdaki formülle hesaplanmaktadır.\n",
        "\n",
        "P(X=k) = (λ^k) / k! x (e^(-λ))\n",
        "\n",
        "Beklenen Değer: E[X] = λ ve Varyans: Var(X)=λ ile hesaplanır. \n",
        "\n",
        "**Problem:**\n",
        "Çevrilen bir taksinin korsan taksi olma olasılığı 1/7500 olduğu bilinmektedir. 2000 taksi bulunan Kocaeli'de 10 korsan taksi olma olasılığı nedir?\n",
        "\n",
        "**Çözüm:**\n",
        "X~Poi(λ) rasgele değişkeni için poisson dağılımı;\n",
        "\n",
        "λ = n x p = 0.26666666666666666\n",
        "\n",
        "P(10) = (0.26666666666666666^10) / 10! x (e^(-0.26666666666666666))\n",
        "\n",
        "P(10) = 3.8380659058256777e-13\n",
        "\n",
        "E[X] = 0.26666666666666666\n",
        "\n",
        "Var(E) = 0.26666666666666666\n"
      ]
    },
    {
      "cell_type": "code",
      "metadata": {
        "id": "SkPYzWM2WmOf",
        "colab_type": "code",
        "colab": {
          "base_uri": "https://localhost:8080/",
          "height": 69
        },
        "outputId": "f1f941dd-3b64-4861-fce9-a642dcf0048f"
      },
      "source": [
        "import math\n",
        "\n",
        "def factorial(n):\n",
        "    if n==1:       \n",
        "        return n\n",
        "    else: \n",
        "        return n * factorial(n-1)\n",
        "\n",
        "def poisson(n,p,k):\n",
        "  l = n*p\n",
        "  return ((l**k)/factorial(k)) * math.exp(-l)\n",
        "\n",
        "n = 2000\n",
        "p = (1/7500)\n",
        "k = 10\n",
        "\n",
        "poi = poisson(n,p,k)\n",
        "e = n*p\n",
        "v = n*p\n",
        "\n",
        "print(\"10 korsan taksi olma olasılığı = \",poi)\n",
        "print(\"Beklenen Değer = \",e)\n",
        "print(\"Varyans = \",v)"
      ],
      "execution_count": 12,
      "outputs": [
        {
          "output_type": "stream",
          "text": [
            "10 korsan taksi olma olasılığı =  3.8380659058256777e-13\n",
            "Beklenen Değer =  0.26666666666666666\n",
            "Varyans =  0.26666666666666666\n"
          ],
          "name": "stdout"
        }
      ]
    }
  ]
}